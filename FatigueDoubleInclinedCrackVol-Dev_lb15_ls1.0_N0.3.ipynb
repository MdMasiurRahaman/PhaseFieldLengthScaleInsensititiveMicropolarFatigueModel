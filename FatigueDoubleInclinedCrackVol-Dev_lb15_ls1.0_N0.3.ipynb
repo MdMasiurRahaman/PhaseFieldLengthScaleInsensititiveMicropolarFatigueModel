{
 "cells": [
  {
   "cell_type": "code",
   "execution_count": null,
   "id": "ab7198fc",
   "metadata": {},
   "outputs": [],
   "source": [
    "using Gmsh: gmsh\n",
    "using Gridap\n",
    "using GridapGmsh\n",
    "using Gridap.TensorValues\n",
    "using LineSearches: BackTracking\n",
    "using Gridap.Arrays\n",
    "using Gridap.ReferenceFEs\n",
    "using Plots\n",
    "using LinearAlgebra"
   ]
  },
  {
   "cell_type": "code",
   "execution_count": null,
   "id": "ed672b17",
   "metadata": {},
   "outputs": [],
   "source": [
    "I2 = SymTensorValue{2,Float64}(1.0 ,0.0 ,1.0)\n",
    "I4 = I2⊗I2\n",
    "I4_sym = one(SymFourthOrderTensorValue{2,Float64})\n",
    "I4_vol = (1.0/2)*I4\n",
    "I4_dev = I4_sym  - I4_vol"
   ]
  },
  {
   "cell_type": "code",
   "execution_count": null,
   "id": "76fc6467",
   "metadata": {},
   "outputs": [],
   "source": [
    "const ls = 1.0"
   ]
  },
  {
   "cell_type": "code",
   "execution_count": null,
   "id": "interim-caution",
   "metadata": {
    "scrolled": true
   },
   "outputs": [],
   "source": [
    "const L = 102\n",
    "const H = 102\n",
    "const a = 20.32\n",
    "const c = 0.5*a\n",
    "const θ = pi/4\n",
    "\n",
    "const CH = 0.204\n",
    "const hfc = ls/2.1\n",
    "const hf = ls/2.1\n",
    "const h = 10*hf \n",
    "const FMR = 5*0.5\n",
    "\n",
    "#Coordinates\n",
    "A1 = 0.5*L - c*cos(θ) - CH*sin(θ)\n",
    "A2 = 0.5*H + c*sin(θ) - CH*cos(θ)\n",
    "\n",
    "A11 = 0.5*L - c*cos(θ) + CH*sin(θ)\n",
    "A22 = 0.5*H + c*sin(θ) + CH*cos(θ)\n",
    "\n",
    "B1 = 0.5*L - (c+a)*cos(θ) - CH*sin(θ)\n",
    "B2 = 0.5*H + (c+a)*sin(θ) - CH*cos(θ)\n",
    "\n",
    "B11 = 0.5*L - (c+a)*cos(θ) + CH*sin(θ)\n",
    "B22 = 0.5*H + (c+a)*sin(θ) + CH*cos(θ)\n",
    "\n",
    "C1 = 0.5*L + c*cos(θ) - CH*sin(θ)\n",
    "C2 = 0.5*H - c*sin(θ) - CH*cos(θ)\n",
    "\n",
    "C11 = 0.5*L + c*cos(θ) + CH*sin(θ)\n",
    "C22 = 0.5*H - c*sin(θ) + CH*cos(θ)\n",
    "\n",
    "D1 = 0.5*L + (c+a)*cos(θ) - CH*sin(θ)\n",
    "D2 = 0.5*H - (c+a)*sin(θ) - CH*cos(θ)\n",
    "\n",
    "D11 = 0.5*L + (c+a)*cos(θ) + CH*sin(θ)\n",
    "D22 = 0.5*H - (c+a)*sin(θ) + CH*cos(θ)\n",
    "\n",
    "gmsh.initialize()\n",
    "gmsh.option.setNumber(\"General.Terminal\", 1)\n",
    "gmsh.model.geo.addPoint(0.0, 0.0, 0.0, h, 1)  \n",
    "gmsh.model.geo.addPoint(L, 0.0, 0.0, h, 2) \n",
    "gmsh.model.geo.addPoint(L, H, 0.0, h, 3) \n",
    "gmsh.model.geo.addPoint(0.0, H, 0.0, h, 4)\n",
    "\n",
    "gmsh.model.geo.addPoint(A1, A2, 0.0, h, 5)\n",
    "gmsh.model.geo.addPoint(A11, A22, 0.0, h, 6)\n",
    "gmsh.model.geo.addPoint(B11, B22, 0.0, h, 7)\n",
    "gmsh.model.geo.addPoint(B1, B2, 0.0, h, 8)\n",
    "\n",
    "gmsh.model.geo.addPoint(C1, C2, 0.0, h, 9)\n",
    "gmsh.model.geo.addPoint(C11, C22, 0.0, h, 10)\n",
    "gmsh.model.geo.addPoint(D11, D22, 0.0, h, 11)\n",
    "gmsh.model.geo.addPoint(D1, D2, 0.0, h, 12)\n",
    "\n",
    "gmsh.model.geo.addLine(1, 2, 1)\n",
    "gmsh.model.geo.addLine(2, 3, 2)\n",
    "gmsh.model.geo.addLine(3, 4, 3)\n",
    "gmsh.model.geo.addLine(4, 1, 4)\n",
    "\n",
    "gmsh.model.geo.addLine(5, 6, 5)\n",
    "gmsh.model.geo.addLine(6, 7, 6)\n",
    "gmsh.model.geo.addLine(7, 8, 7)\n",
    "gmsh.model.geo.addLine(8, 5, 8)\n",
    "\n",
    "gmsh.model.geo.addLine(9, 10, 9)\n",
    "gmsh.model.geo.addLine(10, 11, 10)\n",
    "gmsh.model.geo.addLine(11, 12, 11)\n",
    "gmsh.model.geo.addLine(12, 9, 12)\n",
    "\n",
    "gmsh.model.geo.addLine(1, 3, 55)\n",
    "\n",
    "gmsh.model.geo.addCurveLoop([1,2,3,4],1) \n",
    "gmsh.model.geo.addCurveLoop([5,6,7,8],2) \n",
    "gmsh.model.geo.addCurveLoop([9,10,11,12],3) \n",
    "\n",
    "gmsh.model.geo.addPlaneSurface([1,-2, -3], 1)\n",
    "\n",
    "gmsh.model.addPhysicalGroup(2, [1],1)\n",
    "\n",
    "gmsh.model.addPhysicalGroup(1, [1],1)\n",
    "gmsh.model.addPhysicalGroup(1, [3],2)\n",
    "\n",
    "gmsh.model.setPhysicalName(2, 1, \"Domain\")\n",
    "gmsh.model.setPhysicalName(1, 1, \"DirichletBot\")\n",
    "gmsh.model.setPhysicalName(1, 2, \"DirichletTop\")\n",
    "\n",
    "\n",
    "gmsh.model.mesh.field.add(\"Distance\", 1)\n",
    "gmsh.model.mesh.field.setNumbers(1, \"EdgesList\", [55])\n",
    "\n",
    "gmsh.model.mesh.field.add(\"Threshold\", 2)\n",
    "gmsh.model.mesh.field.setNumber(2, \"IField\", 1)\n",
    "gmsh.model.mesh.field.setNumber(2, \"LcMin\", hf)\n",
    "gmsh.model.mesh.field.setNumber(2, \"LcMax\", h)\n",
    "gmsh.model.mesh.field.setNumber(2, \"DistMin\", 30*FMR)\n",
    "gmsh.model.mesh.field.setNumber(2, \"DistMax\", 32*FMR)\n",
    "\n",
    "gmsh.model.mesh.field.setAsBackgroundMesh(2)\n",
    "\n",
    "gmsh.model.geo.synchronize()\n",
    "gmsh.model.mesh.generate(2)\n",
    "gmsh.write(\"SquarePlateWithEdgeNotch.msh\")\n",
    "gmsh.finalize()"
   ]
  },
  {
   "cell_type": "code",
   "execution_count": null,
   "id": "1746091a",
   "metadata": {},
   "outputs": [],
   "source": [
    "model = GmshDiscreteModel(\"SquarePlateWithEdgeNotch.msh\")\n",
    "writevtk(model,\"SquarePlateWithEdgeNotch\")"
   ]
  },
  {
   "cell_type": "code",
   "execution_count": null,
   "id": "41326f7b",
   "metadata": {},
   "outputs": [],
   "source": [
    "using Gridap.Geometry\n",
    "labels = get_face_labeling(model)\n",
    "dimension = 2\n",
    "mat_tags = get_face_tag(labels,dimension)"
   ]
  },
  {
   "cell_type": "code",
   "execution_count": null,
   "id": "6e1500bb",
   "metadata": {},
   "outputs": [],
   "source": [
    "const E = 36.2e3\n",
    "const ν = 0.21\n",
    "const G = E/(2*(1+ν))\n",
    "const l = 15.0\n",
    "const N = 0.3\n",
    "const Gc = 0.011\n",
    "\n",
    "const η = 1e-15"
   ]
  },
  {
   "cell_type": "code",
   "execution_count": null,
   "id": "6fc82a59-bc5b-48da-b1e1-acd83e00186e",
   "metadata": {},
   "outputs": [],
   "source": [
    "const λ = 2*G*ν/(1 -2*ν)\n",
    "const κ = 2*G*N^2/(1-N^2)\n",
    "const μ = G*(1-2*(N^2))/(1-N^2)\n",
    "const γ = 4*G*l^2"
   ]
  },
  {
   "cell_type": "code",
   "execution_count": null,
   "id": "edbfa230",
   "metadata": {},
   "outputs": [],
   "source": [
    "const σc = 10 \n",
    "const m = 3*E*Gc/(4*ls*(σc^2))\n",
    "const ψ_Crit = σc^2 / (2*E)\n",
    "const kf = 0.5\n",
    "const αT = ψ_Crit/kf"
   ]
  },
  {
   "cell_type": "code",
   "execution_count": null,
   "id": "3fcc9aca-227f-4bdc-8217-64414c023a47",
   "metadata": {},
   "outputs": [],
   "source": [
    "path = \"./SENT_DoubleInclined_lb15_N$N/\"                                # Output path\n",
    "mkpath(path) \n",
    "cd(\"SENT_DoubleInclined_lb15_N$N/\")"
   ]
  },
  {
   "cell_type": "code",
   "execution_count": null,
   "id": "6a0a6701",
   "metadata": {},
   "outputs": [],
   "source": [
    "function degDer(ϕ)\n",
    "    g = (m*ϕ)/(0.25*m^2*ϕ^4 - 0.5*m^2*ϕ^2 + 0.25*m^2 - m*ϕ^4 + m*ϕ^2 + ϕ^4) \n",
    "    return g\n",
    "end"
   ]
  },
  {
   "cell_type": "code",
   "execution_count": null,
   "id": "dental-mouse",
   "metadata": {},
   "outputs": [],
   "source": [
    "function σ_Bmod(ε, ε_in, s_in)\n",
    "    gs = (s_in^2) / (s_in^2 + m*(1-s_in)*(0.5+0.5*s_in))\n",
    "    if tr(ε_in) >= 0\n",
    "        σM = (gs)*((λ + μ + (κ/2))*tr(ε)*one(ε) + (2*μ + κ)*(I4_dev ⊙ ε))\n",
    "    else\n",
    "        σM = (gs)*((2*μ + κ)*(I4_dev ⊙ ε)) + (λ + μ + (κ/2))*tr(ε)*one(ε)\n",
    "    end\n",
    "    return σM\n",
    "end"
   ]
  },
  {
   "cell_type": "code",
   "execution_count": null,
   "id": "5d043cc5",
   "metadata": {},
   "outputs": [],
   "source": [
    "E_Matrx = TensorValue(0,1,-1,0)"
   ]
  },
  {
   "cell_type": "code",
   "execution_count": null,
   "id": "1d6eca4c",
   "metadata": {},
   "outputs": [],
   "source": [
    "function ε_Skw(∇,θ)\n",
    "    ∇ᵀ = transpose(∇)\n",
    "    w = (0.5*(∇ᵀ - ∇)) - (E_Matrx*θ)\n",
    "    return w\n",
    "end"
   ]
  },
  {
   "cell_type": "code",
   "execution_count": null,
   "id": "b7ab7a3c",
   "metadata": {},
   "outputs": [],
   "source": [
    "function σ_Cmod(ϵ_skew, s_in)\n",
    "    gs = (s_in^2) / (s_in^2 + m*(1-s_in)*(0.5+0.5*s_in))\n",
    "    σM = (gs)*(κ*ϵ_skew)\n",
    "    return σM\n",
    "end"
   ]
  },
  {
   "cell_type": "code",
   "execution_count": null,
   "id": "9fb6f0fe",
   "metadata": {},
   "outputs": [],
   "source": [
    "function M_mod(∇, s_in)\n",
    "    gs = (s_in^2) / (s_in^2 + m*(1-s_in)*(0.5+0.5*s_in))\n",
    "    M = (gs)*(γ*∇)\n",
    "    return M\n",
    "end"
   ]
  },
  {
   "cell_type": "code",
   "execution_count": null,
   "id": "f2202328",
   "metadata": {},
   "outputs": [],
   "source": [
    "function ψPos(ε_in,∇_uh,θ, ∇_th,Fdg)\n",
    "    ∇_uhᵀ = transpose(∇_uh)\n",
    "    ϵ_skew = 0.5*(∇_uhᵀ - ∇_uh) - E_Matrx*θ\n",
    "    if tr(ε_in) >= 0\n",
    "        ψPos = (0.5*((λ + μ + (κ/2))*(tr(ε_in))^2 + (2*μ+κ)*((I4_dev ⊙ ε_in) ⊙ (I4_dev ⊙ ε_in))) + 0.5*(κ*(ϵ_skew ⊙ ϵ_skew)) + 0.5*γ*(∇_th ⋅ ∇_th))/Fdg\n",
    "    else\n",
    "        ψPos = (0.5*((2*μ+κ)*((I4_dev ⊙ ε_in) ⊙ (I4_dev ⊙ ε_in))) + 0.5*(κ*(ϵ_skew ⊙ ϵ_skew)) + 0.5*γ*(∇_th ⋅ ∇_th))/Fdg\n",
    "    end\n",
    "    return ψPos \n",
    "end\n",
    "\n",
    "function ψPosOrg(ε_in,∇_uh,θ, ∇_th)\n",
    "    ∇_uhᵀ = transpose(∇_uh)\n",
    "    ϵ_skew = 0.5*(∇_uhᵀ - ∇_uh) - E_Matrx*θ\n",
    "    if tr(ε_in) >= 0\n",
    "        ψPos = 0.5*((λ + μ + (κ/2))*(tr(ε_in))^2 + (2*μ+κ)*((I4_dev ⊙ ε_in) ⊙ (I4_dev ⊙ ε_in))) + 0.5*(κ*(ϵ_skew ⊙ ϵ_skew)) + 0.5*γ*(∇_th ⋅ ∇_th)\n",
    "    else\n",
    "        ψPos = 0.5*((2*μ+κ)*((I4_dev ⊙ ε_in) ⊙ (I4_dev ⊙ ε_in))) + 0.5*(κ*(ϵ_skew ⊙ ϵ_skew)) + 0.5*γ*(∇_th ⋅ ∇_th)\n",
    "    end\n",
    "    return ψPos \n",
    "end"
   ]
  },
  {
   "cell_type": "code",
   "execution_count": null,
   "id": "local-freeware",
   "metadata": {},
   "outputs": [],
   "source": [
    "function new_EnergyState(ψPlusPrev_in,ψhPos_in)\n",
    "    ψPlus_in = ψhPos_in\n",
    "    if ψPlus_in >= ψPlusPrev_in\n",
    "        ψPlus_out = ψPlus_in\n",
    "    else\n",
    "        ψPlus_out = ψPlusPrev_in\n",
    "    end\n",
    "    true,ψPlus_out\n",
    "end"
   ]
  },
  {
   "cell_type": "code",
   "execution_count": null,
   "id": "3bf5a3ce",
   "metadata": {},
   "outputs": [],
   "source": [
    "function project(q,model,dΩ,order)\n",
    "  reffe = ReferenceFE(lagrangian,Float64,order)\n",
    "  V = FESpace(model,reffe,conformity=:L2)\n",
    "  a(u,v) = ∫( u*v )*dΩ\n",
    "  l(v) = ∫( v*q )*dΩ\n",
    "  op = AffineFEOperator(a,l,V,V)\n",
    "  qh = solve(op)\n",
    "  qh\n",
    "end"
   ]
  },
  {
   "cell_type": "code",
   "execution_count": null,
   "id": "efe6b3a7",
   "metadata": {},
   "outputs": [],
   "source": [
    "function FatigueDegrad(αb)\n",
    "    fdg = @. ifelse(αb >= αT , ((2*αT)/(αb + αT))*((2*αT)/(αb + αT)), 1.0)\n",
    "    return fdg\n",
    "end"
   ]
  },
  {
   "cell_type": "code",
   "execution_count": null,
   "id": "f78f2b96",
   "metadata": {},
   "outputs": [],
   "source": [
    "function FatiguehistoryVariable(ψhPos_in,αPrev,αbPrev)\n",
    "    α = ψhPos_in #(s_in ^2 + η)*ψhPos_in\n",
    "    if α >= αPrev\n",
    "       αb = αbPrev + abs(α-αPrev)\n",
    "    else\n",
    "       αb = αbPrev\n",
    "    end\n",
    "return αb\n",
    "end"
   ]
  },
  {
   "cell_type": "code",
   "execution_count": null,
   "id": "81ddf748",
   "metadata": {},
   "outputs": [],
   "source": [
    "function αNC(s_in,ψhPos_in)\n",
    "    gs = (s_in^2) / (s_in^2 + m*(1-s_in)*(0.5+0.5*s_in))\n",
    "    α = gs * ψhPos_in\n",
    "return α\n",
    "end"
   ]
  },
  {
   "cell_type": "code",
   "execution_count": null,
   "id": "3f46de93",
   "metadata": {},
   "outputs": [],
   "source": [
    "order = 1\n",
    "degree = 2*order"
   ]
  },
  {
   "cell_type": "code",
   "execution_count": null,
   "id": "86f3f2bf",
   "metadata": {},
   "outputs": [],
   "source": [
    "Ω = Triangulation(model)\n",
    "dΩ = Measure(Ω,degree)"
   ]
  },
  {
   "cell_type": "code",
   "execution_count": null,
   "id": "absolute-workplace",
   "metadata": {},
   "outputs": [],
   "source": [
    "sId = CellState(1.0,dΩ)\n",
    "shId = project(sId,model,dΩ,order)"
   ]
  },
  {
   "cell_type": "code",
   "execution_count": null,
   "id": "700af0f9",
   "metadata": {},
   "outputs": [],
   "source": [
    "LoadTagId = get_tag_from_name(labels,\"DirichletTop\")\n",
    "Γ_Load = BoundaryTriangulation(model,tags = LoadTagId)\n",
    "dΓ_Load = Measure(Γ_Load,degree)\n",
    "n_Γ_Load = get_normal_vector(Γ_Load)"
   ]
  },
  {
   "cell_type": "code",
   "execution_count": null,
   "id": "950f5dcd",
   "metadata": {},
   "outputs": [],
   "source": [
    "reffe_PF = ReferenceFE(lagrangian,Float64,order)\n",
    "V0_PF = TestFESpace(model,reffe_PF;conformity=:H1)\n",
    "sh = zero(V0_PF)"
   ]
  },
  {
   "cell_type": "code",
   "execution_count": null,
   "id": "14340b87",
   "metadata": {},
   "outputs": [],
   "source": [
    "reffe_theta = ReferenceFE(lagrangian,Float64,order)\n",
    "V0_theta  = TestFESpace(model,reffe_theta;\n",
    "  conformity=:H1,dirichlet_tags=[\"DirichletBot\"])\n",
    "θh = zero(V0_theta)"
   ]
  },
  {
   "cell_type": "code",
   "execution_count": null,
   "id": "1942f3e1",
   "metadata": {},
   "outputs": [],
   "source": [
    "reffe_Disp = ReferenceFE(lagrangian,VectorValue{2,Float64},order)\n",
    "        V0_Disp = TestFESpace(model,reffe_Disp;\n",
    "          conformity=:H1,\n",
    "          dirichlet_tags=[\"DirichletBot\",\"DirichletTop\"],\n",
    "          dirichlet_masks=[(true,true), (false,true)])\n",
    "uh = zero(V0_Disp)"
   ]
  },
  {
   "cell_type": "code",
   "execution_count": null,
   "id": "e2183bf7",
   "metadata": {},
   "outputs": [],
   "source": [
    "V0 = MultiFieldFESpace([V0_Disp,V0_theta])"
   ]
  },
  {
   "cell_type": "code",
   "execution_count": null,
   "id": "4fa0cbfd",
   "metadata": {},
   "outputs": [],
   "source": [
    "function crack_tip_tracker(sh,tol)\n",
    "    damagetracker = Float64[]\n",
    "    sVec = Float64[]\n",
    "    coords = get_node_coordinates(Ω)\n",
    "    \n",
    "    sVec = get_free_dof_values(sh)\n",
    "    \n",
    "    for i in 1:length(sVec)\n",
    "        if sVec[i] <= tol\n",
    "            push!(damagetracker,i)\n",
    "        end\n",
    "    end\n",
    "   damagetracker = round.(Int,damagetracker)\n",
    "    xloc = Float64[]\n",
    "    yloc = Float64[]\n",
    "    if damagetracker!= Float64[]\n",
    "        for i in 1:length(damagetracker)\n",
    "            push!(xloc,coords[damagetracker[i]][1])\n",
    "            push!(yloc,coords[damagetracker[i]][2])\n",
    "        end\n",
    "        Locx, index= findmax(xloc)\n",
    "        Locy = yloc[index]\n",
    "        return (Locx,Locy)\n",
    "    else \n",
    "       return \"No damage\"\n",
    "    end\n",
    "end"
   ]
  },
  {
   "cell_type": "code",
   "execution_count": null,
   "id": "816b7dd3",
   "metadata": {},
   "outputs": [],
   "source": [
    "nls = NLSolver(\n",
    "  show_trace=true,\n",
    "  method=:newton,\n",
    "  linesearch=BackTracking(), iterations = 10)\n",
    "solver = FESolver(nls)"
   ]
  },
  {
   "cell_type": "code",
   "execution_count": null,
   "id": "e83c73af",
   "metadata": {},
   "outputs": [],
   "source": [
    "function stepPhaseField(x0,vApp,cache,ψPlusPrev_in)\n",
    "     U_PF = TrialFESpace(V0_PF)\n",
    "     res(s,ϕ) = ∫( (3/4)*Gc*ls*∇(ϕ)⋅ ∇(s) + (degDer∘(s))*ψPlusPrev_in*ϕ - ((3/8)*Gc/ls)*ϕ)*dΩ\n",
    "     op = FEOperator(res,U_PF,V0_PF)\n",
    "     sh_out = FEFunction(U_PF,x0)\n",
    "     sh_out, cache = solve!(sh_out,solver,op,cache)\n",
    "  return sh_out, get_free_dof_values(sh_out), cache\n",
    "end"
   ]
  },
  {
   "cell_type": "code",
   "execution_count": null,
   "id": "141ac4aa",
   "metadata": {},
   "outputs": [],
   "source": [
    "function Skw(u,θ)\n",
    "    ∇ᵀ = transpose(∇(u))\n",
    "    w = (0.5*(∇ᵀ) - (E_Matrx*θ))\n",
    "    return w\n",
    "end"
   ]
  },
  {
   "cell_type": "code",
   "execution_count": null,
   "id": "9eab4a9c",
   "metadata": {},
   "outputs": [],
   "source": [
    "function   stepDisp(uh_in,θ_in,sh_in,uApp)\n",
    "        uApp1(x) = VectorValue(0.0,0.0)\n",
    "        uApp2(x) = VectorValue(0.0,uApp)\n",
    "        U_Disp = TrialFESpace(V0_Disp,[uApp1,uApp2])\n",
    "        \n",
    "        θApp1(x) = 0.0\n",
    "        U_theta = TrialFESpace(V0_theta,[θApp1])\n",
    "        U = MultiFieldFESpace([U_Disp,U_theta ])\n",
    "\n",
    "        a((u,θ),(w,v))  = ∫( ((Skw(w,v)) ⊙ (σ_Bmod∘(ε(u),ε(uh_in),sh_in)) ) + ((Skw(w,v)) ⊙ (σ_Cmod∘(ε_Skw∘(∇(u),θ), sh_in)) ) + ((∇(v))⋅ (M_mod∘(∇(θ),sh_in))) - (v*((E_Matrx) ⊙ (σ_Cmod∘(ε_Skw∘(∇(u),θ),sh_in))) ))*dΩ\n",
    "        b((w,v))= 0\n",
    "        op_Disp = AffineFEOperator(a,b,U,V0)\n",
    "        uh_out = solve(op_Disp)\n",
    "        uh_out,phih_out = uh_out\n",
    "    return uh_out, phih_out\n",
    "end"
   ]
  },
  {
   "cell_type": "code",
   "execution_count": null,
   "id": "8a4b863f",
   "metadata": {
    "scrolled": true
   },
   "outputs": [],
   "source": [
    "vApp = 0\n",
    "const innerMax = 10\n",
    "const tol_lim = 1e-10\n",
    "count = 0\n",
    "\n",
    "const T = 1\n",
    "const n = 300\n",
    "const Tₚ = T/n\n",
    "const n1 = 16 # loadsteps\n",
    "const delv = 0.004\n",
    "const tp = Tₚ/n1\n",
    "t = 0.0\n",
    "cycle = 0\n",
    "const dc = 1/n1\n",
    "\n",
    "Load = Float64[]\n",
    "Displacement = Float64[]\n",
    "time = Float64[]\n",
    "AppDisplacement = Float64[]\n",
    "αEnergy = Float64[]\n",
    "αDegrad = Float64[]\n",
    "NoofCycles = Float64[]\n",
    "Xloccrack = Float64[]\n",
    "Yloccrack = Float64[]\n",
    "FracEnergy = Float64[]\n",
    "\n",
    "\n",
    "push!(Xloccrack,(L/2))\n",
    "push!(Yloccrack,0.5*H)\n",
    "push!(Load, 0.0)\n",
    "push!(Displacement, 0.0)\n",
    "\n",
    "push!(time, t)\n",
    "push!(AppDisplacement, vApp)\n",
    "push!(NoofCycles, cycle)\n",
    "\n",
    "push!(αEnergy, 0.0)\n",
    "push!(αDegrad, 1.0)\n",
    "push!(FracEnergy, 0.0)\n",
    "\n",
    "\n",
    "sPrev = CellState(1.0,dΩ)\n",
    "sh = project(sPrev ,model ,dΩ,order)\n",
    "x0_PF = ones(Float64,num_free_dofs(V0_PF))\n",
    "cache_1 = nothing\n",
    "\n",
    "αPrev = CellState(0.0,dΩ)\n",
    "αbPrev = CellState(0.0,dΩ)\n",
    "\n",
    "αhPlusPrev = project(αPrev,model,dΩ,order)\n",
    "αbhPlusPrev = project(αbPrev,model,dΩ,order)\n",
    "\n",
    "FdhPrev = FatigueDegrad∘(αbhPlusPrev)\n",
    "\n",
    "ψPlusPrev = CellState(ψ_Crit,dΩ)\n",
    "\n",
    "while t .< T \n",
    "        \n",
    "    t = t + tp\n",
    "    vAppC = abs(4*delv/Tₚ * abs((((t-Tₚ/4)%Tₚ)+Tₚ)%Tₚ - Tₚ/2) - delv)\n",
    "    vApp = round(vAppC,digits = 6)\n",
    "    count = count .+ 1\n",
    "    cycle = cycle + dc\n",
    "    FdhPrev = FatigueDegrad∘(αbhPlusPrev)\n",
    "   \n",
    "    print(\"\\n Entering displacemtent step$count :\", float(vApp))\n",
    "    \n",
    "   for inner = 1:innerMax\n",
    "        \n",
    "        ψhPlusPrev = project(ψPlusPrev,model,dΩ,order)\n",
    "        \n",
    "        RelErr = abs(sum(∫( (3/4)*Gc*ls*∇(sh)⋅ ∇(sh) + (degDer∘(sh))*ψhPlusPrev*sh)*dΩ-∫( ((3/8)*Gc/ls)*sh)*dΩ))/abs(sum(∫( ((3/8)*Gc/ls)*sh)*dΩ))\n",
    "        print(\"\\n Relative error = \",float(RelErr))\n",
    "        \n",
    "        sh,x0_PF,cache_1 = stepPhaseField(x0_PF,vApp,cache_1,ψhPlusPrev) \n",
    "        uh,θh = stepDisp(uh,θh,sh,vApp)\n",
    "        \n",
    "        ψhPos_in = ψPos∘(ε(uh),∇(uh),θh,∇(θh),FdhPrev)      \n",
    "        \n",
    "        update_state!(new_EnergyState,ψPlusPrev,ψhPos_in)\n",
    "        \n",
    "        if RelErr < 1e-8\n",
    "            break \n",
    "        end\n",
    "    end\n",
    "    \n",
    "    if  crack_tip_tracker(sh,tol_lim) ==\"No damage\"\n",
    "        push!(Xloccrack,0.5*L)\n",
    "        push!(Yloccrack,0.5*H)\n",
    "    else\n",
    "        (X_t, Y_t) = crack_tip_tracker(sh,tol_lim)\n",
    "        push!(Xloccrack,X_t)\n",
    "        push!(Yloccrack,Y_t)\n",
    "    end\n",
    "    \n",
    "    ψhPosOrg_in = ψPosOrg∘(ε(uh),∇(uh),θh,∇(θh))\n",
    "    αPrev = αNC∘(sh,ψhPosOrg_in)\n",
    "    αbPrev = FatiguehistoryVariable∘(αPrev,αhPlusPrev,αbhPlusPrev)\n",
    "    \n",
    "    αhPlusPrev = project(αPrev,model,dΩ,order)\n",
    "    αbhPlusPrev = project(αbPrev,model,dΩ,order)\n",
    "    \n",
    "    FdhPrev = FatigueDegrad∘(αbhPlusPrev)\n",
    "    \n",
    "    αbPrevVal = evaluate(αbPrev,VectorValue(0.5*L, 2*CH))\n",
    "    Fdegrad = evaluate(FdhPrev,VectorValue(0.5*L, 2*CH))\n",
    "    FracEnergyExp = sum(∫((3/8)*((1-sh)/ls + ls*(∇(sh) ⋅ ∇(sh))))*dΩ)\n",
    "    \n",
    "    push!(time, t)\n",
    "    push!(AppDisplacement, vApp)\n",
    "    push!(NoofCycles, cycle)\n",
    "    \n",
    "    push!(αEnergy, αbPrevVal)\n",
    "    push!(αDegrad, Fdegrad)\n",
    "    push!(FracEnergy, FracEnergyExp)\n",
    "    \n",
    "    Node_Force = sum(∫( n_Γ_Load ⋅ (σ_Bmod∘(ε(uh),ε(uh),sh)) ) *dΓ_Load + ∫( n_Γ_Load ⋅ (σ_Cmod∘(ε_Skw∘(∇(uh),θh),sh) ) )  *dΓ_Load)\n",
    "    \n",
    "    push!(Load, Node_Force[2])\n",
    "    push!(Displacement, vApp)\n",
    "    if mod(count,10) == 0\n",
    "         writevtk(Ω,\"results_PhaseField_Mode1_N0.5l0.10_$count\",cellfields=\n",
    "        [\"uh\"=>uh,\"s\"=>sh ,\"θ\" => θh, \"epsi\"=>ε(uh)])\n",
    "    end\n",
    "end"
   ]
  },
  {
   "cell_type": "code",
   "execution_count": null,
   "id": "cf4184cd",
   "metadata": {},
   "outputs": [],
   "source": [
    "writevtk(Ω,\"results__PhaseField_Mode1_N0.5l0.10_$count\",cellfields=\n",
    "        [\"uh\"=>uh,\"s\"=>sh ,\"θ\" => θh, \"epsi\"=>ε(uh)])"
   ]
  },
  {
   "cell_type": "code",
   "execution_count": null,
   "id": "emerging-negative",
   "metadata": {},
   "outputs": [],
   "source": [
    "plot(Displacement,Load*1e-3)"
   ]
  },
  {
   "cell_type": "code",
   "execution_count": null,
   "id": "3c712621",
   "metadata": {},
   "outputs": [],
   "source": [
    "parent_path = \"../PlottingFiles/\"     # Go up one level and define the new folder name\n",
    "mkpath(parent_path)"
   ]
  },
  {
   "cell_type": "code",
   "execution_count": null,
   "id": "fb9175f5",
   "metadata": {},
   "outputs": [],
   "source": [
    "cd(\"../PlottingFiles\")"
   ]
  },
  {
   "cell_type": "code",
   "execution_count": null,
   "id": "f567a89a",
   "metadata": {},
   "outputs": [],
   "source": [
    "using DelimitedFiles"
   ]
  },
  {
   "cell_type": "code",
   "execution_count": null,
   "id": "c74c03a1",
   "metadata": {},
   "outputs": [],
   "source": [
    "NoofCyclesCSV = writedlm(\"DInNotch_kf05_Step16NoofCyclesPhlsfullVolDevN0.5_ls1.0_lb$l.csv\",  NoofCycles, ',')\n",
    "FracEnergyCSV = writedlm(\"DInNotch_kf05_Step16FracEnergyPhlsfullVolDevN0.5_ls1.0_lb$l.csv\",  FracEnergy, ',')\n",
    "LoadEnergyCSV = writedlm(\"DInNotch_kf05_Step16LoadPhlsfullVolDevN0.5_ls1.0_lb$l.csv\",  Load, ',')"
   ]
  },
  {
   "cell_type": "code",
   "execution_count": null,
   "id": "e590f2d9",
   "metadata": {},
   "outputs": [],
   "source": [
    "XloccrackCSV = writedlm(\"DInNotch_kf05_Step16XloccrackPhlsfullVolDevN0.5_ls1.0_lb$l.csv\",  Xloccrack, ',')\n",
    "FdegradCSV = writedlm(\"DInNotch_kf05_Step16FdegradPhlsfullVolDevN0.5_ls1.0_lb$l.csv\",  αDegrad, ',')\n",
    "αEnergyCSV = writedlm(\"DInNotch_kf05_Step16AlphaEnergyPhlsfullVolDevN0.5_ls1.0_lb$l.csv\",  αEnergy, ',')"
   ]
  }
 ],
 "metadata": {
  "@webio": {
   "lastCommId": null,
   "lastKernelId": null
  },
  "kernelspec": {
   "display_name": "Julia 1.8.1",
   "language": "julia",
   "name": "julia-1.8"
  },
  "language_info": {
   "file_extension": ".jl",
   "mimetype": "application/julia",
   "name": "julia",
   "version": "1.8.1"
  }
 },
 "nbformat": 4,
 "nbformat_minor": 5
}
